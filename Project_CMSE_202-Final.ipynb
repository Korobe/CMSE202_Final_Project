{
 "cells": [
  {
   "cell_type": "markdown",
   "metadata": {},
   "source": [
    "Group Members: Garrit Hotchkiss, Isabel Petrescu, Benjamin Johnson, Jacob Marquez\n",
    "# CMSE 202 Final Project #\n",
    "For this group project, our goal is to compare the spread of the influenza virus among the Michigan State University campus and several other college campuses. We accomplish this goal using an agent-based model (ABM) to represent each location with the population and size for the model comparable to the actual population and size of the location."
   ]
  },
  {
   "cell_type": "code",
<<<<<<< HEAD
   "execution_count": 23,
   "metadata": {},
   "outputs": [],
   "source": [
    "#general imports\n",
=======
   "execution_count": 1,
   "metadata": {},
   "outputs": [],
   "source": [
    "# Import the necessary libraries\n",
>>>>>>> 9408f4808ed522186d75c3bb65d05f2fd714f0fb
    "import numpy as np\n",
    "import matplotlib.pyplot as plt\n",
    "%matplotlib inline\n",
    "\n",
<<<<<<< HEAD
    "#animation and image imports\n",
=======
    "# Import specific libraries needed for the animation\n",
>>>>>>> 9408f4808ed522186d75c3bb65d05f2fd714f0fb
    "from IPython.display import display, clear_output\n",
    "import time  \n",
    "import imageio"
   ]
  },
  {
   "cell_type": "code",
<<<<<<< HEAD
   "execution_count": 24,
=======
   "execution_count": 2,
>>>>>>> 9408f4808ed522186d75c3bb65d05f2fd714f0fb
   "metadata": {},
   "outputs": [],
   "source": [
    "#creates a grid that we can index for making our campuses\n",
    "def plotgrid(myarray):\n",
    "    \n",
    "    # creates a range of numbers that make the grid\n",
    "    x_range = np.linspace(0, myarray.shape[0], myarray.shape[0]) \n",
    "    y_range = np.linspace(0, myarray.shape[0], myarray.shape[0])\n",
    "    x_indices, y_indices = np.meshgrid(x_range, y_range)\n",
    "    \n",
    "    #susceptible/non-sick people = 1 \n",
    "    susc_x = x_indices[myarray == 1];   \n",
    "    susc_y = y_indices[myarray == 1];\n",
    "    \n",
    "    #sick people = 2\n",
    "    infected_x = x_indices[myarray == 2];   \n",
    "    infected_y = y_indices[myarray == 2];\n",
    "    \n",
    "    #immune/flu-shot people = 4\n",
    "    immune_x = x_indices[myarray == 4]\n",
    "    immune_y = y_indices[myarray == 4]\n",
    "    \n",
    "    #plots the x and y coordinates together and also assigns them a color and size\n",
    "    plt.plot(susc_x, susc_y, 'gs',markersize = 10)   \n",
    "    plt.plot(infected_x, infected_y, 'rs',markersize = 10)\n",
    "    plt.plot(immune_x, immune_y, 'bs', markersize = 10)\n",
    "    \n",
    "    #xlim and ylim to make it look better\n",
    "    plt.xlim([-1,myarray.shape[0]+1])\n",
    "    plt.ylim([-1,myarray.shape[0]+1]) \n",
    "\n",
    "    #removing ticks and labels\n",
    "    plt.tick_params(axis='both', which='both',bottom='off', top='off', left='off', right='off', labelbottom='off', labelleft='off')"
   ]
  },
  {
   "cell_type": "code",
<<<<<<< HEAD
   "execution_count": 25,
   "metadata": {},
   "outputs": [],
   "source": [
    "#initially sets board before disease spreads\n",
    "def set_board(board_size, immune, infected, pop):\n",
    "   \n",
    "    # all cells initialized to 'empty' by default which equals 0 \n",
    "    game_board = np.zeros((board_size,board_size),dtype='int64')\n",
=======
   "execution_count": 3,
   "metadata": {},
   "outputs": [],
   "source": [
    "def set_board(board_size, immune, infected, pop):\n",
    "    '''\n",
    "    This creates the initial game board with user provided inputs for board_size, \n",
    "    representing the number of rows (or columns) on the board, immune, representing the immunity rate, \n",
    "    infected, representing the infection rate of the virus, and pop, the population density \n",
    "    of individuals on the board.\n",
    "    '''\n",
    "    # create a 2D board of zeros\n",
    "    game_board = np.zeros((board_size, board_size),dtype='int64')\n",
>>>>>>> 9408f4808ed522186d75c3bb65d05f2fd714f0fb
    "    \n",
    "    #loops through every cell of the board and will randomly change the 'empty' (0) to infected, susceptible, or immune\n",
    "    for i in range(board_size):\n",
    "        \n",
    "        for j in range(board_size):\n",
    "            \n",
    "            if np.random.random() <= pop:\n",
    "                \n",
    "                game_board[i,j] = 1\n",
    "            \n",
    "            elif np.random.random() <= immune:\n",
    "                \n",
    "                game_board[i,j] = 4\n",
    "                \n",
    "            elif np.random.random() <= infected:\n",
    "                \n",
    "                game_board[i, j] = 2\n",
    "    \n",
    "    return game_board"
   ]
  },
  {
   "cell_type": "code",
<<<<<<< HEAD
   "execution_count": 26,
=======
   "execution_count": 4,
>>>>>>> 9408f4808ed522186d75c3bb65d05f2fd714f0fb
   "metadata": {},
   "outputs": [],
   "source": [
    "def onBoard(i, j, board):\n",
    "    \n",
    "    #check to see if the i-j index actually exists on the board\n",
    "    if i <= board.shape[0]-1 and i >= 0 and j <= board.shape[1]-1 and j >= 0:\n",
    "        \n",
    "        return True\n",
    "    \n",
    "    #checks to see if it doesn't\n",
    "    else:\n",
    "        \n",
    "        return False"
   ]
  },
  {
   "cell_type": "code",
<<<<<<< HEAD
   "execution_count": 27,
=======
   "execution_count": 5,
>>>>>>> 9408f4808ed522186d75c3bb65d05f2fd714f0fb
   "metadata": {},
   "outputs": [],
   "source": [
    "#getting the neighbor values after we check if the location is on the board\n",
    "def getNeighborValues(i, j, board):\n",
    "    \n",
    "    # The following list contains the indices of the neighbors for a pixel at (i, j)\n",
<<<<<<< HEAD
    "    # moore model(checks diagonals)\n",
    "    neighborhood = [(i-1,j-1), (i-1, j), (i-1,j+1), (i, j-1), (i, j+1), (i+1,j-1), (i+1,j), (i+1,j+1)]\n",
=======
    "    neighborhood = [(i-1, j), (i, j-1), (i+1, j), (i, j+1), (i-1,j-1), (i-1,j+1), (i+1,j-1), (i+1,j+1)]\n",
>>>>>>> 9408f4808ed522186d75c3bb65d05f2fd714f0fb
    "    \n",
    "    neighbor_values = []\n",
    "    \n",
    "    for neighbor in neighborhood:\n",
    "        if onBoard(neighbor[0],neighbor[1],board):\n",
<<<<<<< HEAD
    "            neighbor_values.append(board[neighbor[0],neighbor[1]]) \n",
=======
    "            neighbor_values.append(board[neighbor[0],neighbor[1]])\n",
>>>>>>> 9408f4808ed522186d75c3bb65d05f2fd714f0fb
    "    \n",
    "    return neighbor_values"
   ]
  },
  {
   "cell_type": "code",
<<<<<<< HEAD
   "execution_count": 28,
=======
   "execution_count": 6,
>>>>>>> 9408f4808ed522186d75c3bb65d05f2fd714f0fb
   "metadata": {},
   "outputs": [],
   "source": [
    "# runs dynamic infecting of inital \"set\" board\n",
    "\n",
    "def advance_board(game_board, infect):\n",
    "    \n",
    "    # create a new array that's just like the original one \n",
    "    # copy array is set to all zeros\n",
    "    new_board = np.zeros_like(game_board)\n",
    "   \n",
    "    # loop over each cell and update board\n",
    "    for i in range(game_board.shape[0]):\n",
    "        for j in range(game_board.shape[1]):\n",
    "            \n",
    "            # update new_board if location is empty and count\n",
    "            if game_board[i,j] == 0:\n",
    "                new_board[i,j] = 0\n",
    "                \n",
    "            # update new_board if location is immune and count\n",
    "            if game_board[i,j] == 4:\n",
    "                new_board[i,j] = 4\n",
    "            \n",
    "            # update new_board if location is infected and count\n",
    "            if game_board[i,j] == 2:\n",
    "                new_board[i,j] = 2\n",
    "    \n",
    "            # if they're susceptible, check to see if they get infected\n",
    "            if game_board[i,j] == 1:\n",
    "                \n",
    "                # initially make it susceptible\n",
    "                new_board[i,j] = 1\n",
    "                \n",
    "                # If one of the neighboring cells was infected last turn\n",
    "                # infect is stated infecting rate\n",
    "                neighbors = getNeighborValues(i,j, game_board)\n",
    "                for n in neighbors:\n",
    "                    if n == 2:\n",
    "                         if np.random.random() < infect:\n",
    "                            new_board[i,j] = 2\n",
    "    \n",
    "    # return the new board\n",
    "    return new_board"
   ]
  },
  {
   "cell_type": "code",
<<<<<<< HEAD
   "execution_count": 29,
   "metadata": {
    "scrolled": true
   },
   "outputs": [
    {
     "data": {
      "image/png": "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\n",
=======
   "execution_count": 7,
   "metadata": {},
   "outputs": [
    {
     "data": {
      "image/png": "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\n",
>>>>>>> 9408f4808ed522186d75c3bb65d05f2fd714f0fb
      "text/plain": [
       "<Figure size 720x720 with 1 Axes>"
      ]
     },
     "metadata": {},
     "output_type": "display_data"
    }
   ],
   "source": [
    "import matplotlib.pyplot as plt\n",
    "%matplotlib inline\n",
    "\n",
    "#creates 50 by 50 board\n",
    "board_size = 50\n",
    "\n",
    "#figure size that looks best\n",
    "fig = plt.figure(figsize=(10,10))\n",
    "\n",
    "# Inputs for infecting\n",
    "# Immunity is 37.1% across US (from cdc data)\n",
    "# The number of starting infected people is arbitrary, we have decided on 5% of the initial pop is sick\n",
    "# Population density depends on school \n",
    "game_board = set_board(board_size = board_size, immune = 0.371, infected = 0.05, pop = .1865)\n",
    "\n",
    "# plot initial board\n",
    "plotgrid(game_board)\n",
    "\n",
    "# indicator variable if cell/person is infected or not\n",
    "infected = True\n",
    "iterations = 0\n",
    "imagename = []\n",
    "\n",
    "# while there is at least one infected cell\n",
    "while infected == True:\n",
    "    iterations += 1\n",
    "    game_board = advance_board(game_board, infect = 0.024)\n",
    "    \n",
    "    \n",
    "    # plot our advanced board (with some animation commands)\n",
    "    plotgrid(game_board)\n",
    "    time.sleep(0.00000000001)  # \n",
    "    \n",
    "    #This part of the code saves the figs as png so we can later turn them into a gif\n",
    "    fig.savefig(\"images/img\"+str(iterations)+\".png\")\n",
    "    imagename.append(\"images/img\"+str(iterations)+\".png\")\n",
    "    \n",
    "    clear_output(wait=True)\n",
    "    display(fig)\n",
    "    fig.clear()\n",
    "    \n",
    "    #running for set number of iterations\n",
    "    if iterations > 50:\n",
    "        infected = False\n",
    "   \n",
    "    if (game_board == 2).sum() == 0.0:\n",
    "        infected = False\n",
    "\n",
    "# close the figure\n",
    "plt.close()     \n"
   ]
  },
  {
   "cell_type": "code",
<<<<<<< HEAD
   "execution_count": 30,
   "metadata": {},
   "outputs": [],
   "source": [
    "#iterating through board to get counts\n",
    "empty_count = 0\n",
    "immune_count= 0\n",
    "susc_count = 0 \n",
    "infected_count=0\n",
    "\n",
    "for i in range(game_board.shape[0]):\n",
    "    for j in range(game_board.shape[1]):\n",
    "        \n",
    "        if game_board[i,j] == 0:\n",
    "            empty_count += 1\n",
    "                \n",
    "        if game_board[i,j] == 4:\n",
    "            immune_count += 1\n",
    "            \n",
    "        if game_board[i,j] == 2:\n",
    "            infected_count += 1\n",
    "    \n",
    "        if game_board[i,j] == 1:\n",
    "            susc_count += 1 \n",
    "            \n",
    "                            \n",
    "counts = [empty_count, immune_count, susc_count, infected_count]\n",
    "    \n",
    "  "
   ]
  },
  {
   "cell_type": "code",
   "execution_count": 34,
   "metadata": {},
   "outputs": [
    {
     "name": "stdout",
     "output_type": "stream",
     "text": [
      "Total Population: 1265\n",
      "# of empty cells: 1235\n",
      "# of immune people: 777\n",
      "# of Healthy People: 385\n",
      "# of Sick People: 103\n"
     ]
    }
   ],
   "source": [
    "print(\"Total Population:\", counts[1] + counts[2] + counts[3])\n",
    "print(\"# of empty cells:\",counts[0])\n",
    "print(\"# of immune people:\",counts[1])\n",
    "print(\"# of Healthy People:\",counts[2])\n",
    "print(\"# of Sick People:\",counts[3])"
   ]
  },
  {
   "cell_type": "code",
   "execution_count": 33,
=======
   "execution_count": 8,
>>>>>>> 9408f4808ed522186d75c3bb65d05f2fd714f0fb
   "metadata": {},
   "outputs": [],
   "source": [
    "images = []\n",
    "\n",
    "for img in imagename:\n",
    "    images.append(imageio.imread(img))\n",
    "imageio.mimsave('gifs/movie.gif', images)"
   ]
  },
  {
   "cell_type": "code",
   "execution_count": null,
   "metadata": {},
   "outputs": [],
   "source": []
  }
 ],
 "metadata": {
  "kernelspec": {
   "display_name": "Python 3",
   "language": "python",
   "name": "python3"
  },
  "language_info": {
   "codemirror_mode": {
    "name": "ipython",
    "version": 3
   },
   "file_extension": ".py",
   "mimetype": "text/x-python",
   "name": "python",
   "nbconvert_exporter": "python",
   "pygments_lexer": "ipython3",
   "version": "3.7.1"
  }
 },
 "nbformat": 4,
 "nbformat_minor": 4
}
